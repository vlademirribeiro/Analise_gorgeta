{
  "nbformat": 4,
  "nbformat_minor": 0,
  "metadata": {
    "colab": {
      "private_outputs": true,
      "provenance": [],
      "authorship_tag": "ABX9TyMGupIQbzAmRURyp7iD2tJE",
      "include_colab_link": true
    },
    "kernelspec": {
      "name": "python3",
      "display_name": "Python 3"
    },
    "language_info": {
      "name": "python"
    }
  },
  "cells": [
    {
      "cell_type": "markdown",
      "metadata": {
        "id": "view-in-github",
        "colab_type": "text"
      },
      "source": [
        "<a href=\"https://colab.research.google.com/github/vlademirribeiro/Analise_gorjeta/blob/main/Emissoes.ipynb\" target=\"_parent\"><img src=\"https://colab.research.google.com/assets/colab-badge.svg\" alt=\"Open In Colab\"/></a>"
      ]
    },
    {
      "cell_type": "code",
      "execution_count": null,
      "metadata": {
        "id": "whuv4M-y2mOu"
      },
      "outputs": [],
      "source": [
        "import pandas as pd"
      ]
    },
    {
      "cell_type": "code",
      "source": [
        "url = ('https://github.com/alura-cursos/Pandas/blob/main/emissoes_CO2.xlsx?raw=True')"
      ],
      "metadata": {
        "id": "1sdjGvIm4SEy"
      },
      "execution_count": null,
      "outputs": []
    },
    {
      "cell_type": "code",
      "source": [
        "#verificando dados da planilha exel\n",
        "dados = pd.read_excel(url)"
      ],
      "metadata": {
        "id": "Z8JafI_p4SIA"
      },
      "execution_count": null,
      "outputs": []
    },
    {
      "cell_type": "code",
      "source": [
        "dados.head(7)"
      ],
      "metadata": {
        "id": "-gIoxSJn4SLN"
      },
      "execution_count": null,
      "outputs": []
    },
    {
      "cell_type": "code",
      "source": [
        "#identificando os nomes das paginas da tabela\n",
        "dados = pd.ExcelFile(url).sheet_names"
      ],
      "metadata": {
        "id": "B5FLrQ5q4SUl"
      },
      "execution_count": null,
      "outputs": []
    },
    {
      "cell_type": "code",
      "source": [
        "dados"
      ],
      "metadata": {
        "id": "t2vrRTJx4SYi"
      },
      "execution_count": null,
      "outputs": []
    },
    {
      "cell_type": "code",
      "source": [
        "percaptacao = pd.read_excel(url, sheet_name='emissoes_percapita')"
      ],
      "metadata": {
        "id": "FdF7J6uy4Siu"
      },
      "execution_count": null,
      "outputs": []
    },
    {
      "cell_type": "code",
      "source": [
        "percaptacao.head()"
      ],
      "metadata": {
        "id": "CuJoaAPg4Slt"
      },
      "execution_count": null,
      "outputs": []
    },
    {
      "cell_type": "code",
      "source": [
        "intervalo = pd.read_excel(url, sheet_name='emissoes_C02', usecols='A:D')"
      ],
      "metadata": {
        "id": "_1V5YuO75L5y"
      },
      "execution_count": null,
      "outputs": []
    },
    {
      "cell_type": "code",
      "source": [
        "intervalo.head()"
      ],
      "metadata": {
        "id": "S5OlS9jv5MTZ"
      },
      "execution_count": null,
      "outputs": []
    },
    {
      "cell_type": "code",
      "source": [
        "intervalo.info()"
      ],
      "metadata": {
        "id": "5ddPTxw85Mde"
      },
      "execution_count": null,
      "outputs": []
    },
    {
      "cell_type": "code",
      "source": [
        "#salvando aquivo excel\n",
        "percaptacao.to_excel('percaptacao.xlsx', index=False)"
      ],
      "metadata": {
        "id": "gdbHl_Tq5Mi1"
      },
      "execution_count": null,
      "outputs": []
    },
    {
      "cell_type": "code",
      "source": [
        "#lendo arquivo excel diretamente pelo caminho da pasta\n",
        "pd.read_excel('percaptacao.xlsx')"
      ],
      "metadata": {
        "id": "vjXjnj1u5MoX"
      },
      "execution_count": null,
      "outputs": []
    }
  ]
}