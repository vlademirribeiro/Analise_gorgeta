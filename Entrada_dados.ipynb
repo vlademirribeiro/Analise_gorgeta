{
  "nbformat": 4,
  "nbformat_minor": 0,
  "metadata": {
    "colab": {
      "private_outputs": true,
      "provenance": [],
      "authorship_tag": "ABX9TyOR07R4aTOP9aeTzt/PQXKO",
      "include_colab_link": true
    },
    "kernelspec": {
      "name": "python3",
      "display_name": "Python 3"
    },
    "language_info": {
      "name": "python"
    }
  },
  "cells": [
    {
      "cell_type": "markdown",
      "metadata": {
        "id": "view-in-github",
        "colab_type": "text"
      },
      "source": [
        "<a href=\"https://colab.research.google.com/github/vlademirribeiro/Analise_gorjeta/blob/main/Entrada_dados.ipynb\" target=\"_parent\"><img src=\"https://colab.research.google.com/assets/colab-badge.svg\" alt=\"Open In Colab\"/></a>"
      ]
    },
    {
      "cell_type": "code",
      "execution_count": null,
      "metadata": {
        "id": "W_8UfXq9Nnjg"
      },
      "outputs": [],
      "source": [
        "import pandas as pd"
      ]
    },
    {
      "cell_type": "code",
      "source": [
        "url = 'https://raw.githubusercontent.com/alura-cursos/Pandas/refs/heads/main/superstore_data_ponto_virgula.csv'\n"
      ],
      "metadata": {
        "id": "ScJGq6e9NpKU"
      },
      "execution_count": null,
      "outputs": []
    },
    {
      "cell_type": "code",
      "source": [
        "dados_mercado = pd.read_csv(url, sep=';')"
      ],
      "metadata": {
        "id": "0AzvthTWNpG9"
      },
      "execution_count": null,
      "outputs": []
    },
    {
      "cell_type": "code",
      "source": [
        "dados_mercado.head()"
      ],
      "metadata": {
        "id": "zYKA2Ye4NpBL"
      },
      "execution_count": null,
      "outputs": []
    },
    {
      "cell_type": "code",
      "source": [
        "#analisando dados por coluna\n",
        "daddos_selecao = pd.read_csv(url, sep=';', usecols=['Id', 'Year_Birth', 'Income'])"
      ],
      "metadata": {
        "id": "r3Y1Ae2XNo-X"
      },
      "execution_count": null,
      "outputs": []
    },
    {
      "cell_type": "code",
      "source": [
        "#verificando os dados\n",
        "daddos_selecao.head()"
      ],
      "metadata": {
        "id": "2aOf9eTfNo7Y"
      },
      "execution_count": null,
      "outputs": []
    },
    {
      "cell_type": "code",
      "source": [
        "#analisando dado da tabela por posição do array\n",
        "daddos_selecao = pd.read_csv(url, sep=';', usecols=[0, 1, 4 ])\n",
        "daddos_selecao.head()"
      ],
      "metadata": {
        "id": "HZdRwtfPNo4P"
      },
      "execution_count": null,
      "outputs": []
    },
    {
      "cell_type": "code",
      "source": [
        "#salvando arquivo\n",
        "daddos_selecao.to_csv('dados_mercado.csv', sep=';')"
      ],
      "metadata": {
        "id": "tKaeLMJTNo1O"
      },
      "execution_count": null,
      "outputs": []
    },
    {
      "cell_type": "code",
      "source": [
        "daddos_selecao.to_csv('dados_mercado.csv', sep=';', index=False)"
      ],
      "metadata": {
        "id": "k6odv0KxNox_"
      },
      "execution_count": null,
      "outputs": []
    },
    {
      "cell_type": "code",
      "source": [
        "#leitura do arquivo\n",
        "pd.read_csv('dados_mercado.csv', sep=';')"
      ],
      "metadata": {
        "id": "zTGqTh6pNouc"
      },
      "execution_count": null,
      "outputs": []
    },
    {
      "cell_type": "code",
      "source": [
        "import chardet\n",
        "import pandas as pd\n",
        "with open('/content/dados_sus.csv', 'rb') as file:\n",
        "    print(chardet.detect(file.read()))\n"
      ],
      "metadata": {
        "id": "s5C0UDftNolR"
      },
      "execution_count": null,
      "outputs": []
    },
    {
      "cell_type": "code",
      "source": [
        "dados = pd.read_csv('/content/dados_sus.csv'\\, sep='None', encoding='ISO-8859-1')\n"
      ],
      "metadata": {
        "id": "nfCIkQ-tNohq"
      },
      "execution_count": null,
      "outputs": []
    },
    {
      "cell_type": "code",
      "source": [
        "dados.head(20)"
      ],
      "metadata": {
        "id": "8zfMygOIucgS"
      },
      "execution_count": null,
      "outputs": []
    },
    {
      "cell_type": "code",
      "source": [
        "datos = pd.read_csv('/content/dados_sus.csv', encoding='ISO-8859-1', skiprows=3, skipfooter=9, engine='python', header=0, sep=';')\n",
        "datos.head(10)"
      ],
      "metadata": {
        "id": "MyLpCC0Pzp_s"
      },
      "execution_count": null,
      "outputs": []
    }
  ]
}