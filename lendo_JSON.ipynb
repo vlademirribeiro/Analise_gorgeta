{
  "nbformat": 4,
  "nbformat_minor": 0,
  "metadata": {
    "colab": {
      "private_outputs": true,
      "provenance": [],
      "authorship_tag": "ABX9TyPI7fcEHWnfqZ+M3B0GfbPi",
      "include_colab_link": true
    },
    "kernelspec": {
      "name": "python3",
      "display_name": "Python 3"
    },
    "language_info": {
      "name": "python"
    }
  },
  "cells": [
    {
      "cell_type": "markdown",
      "metadata": {
        "id": "view-in-github",
        "colab_type": "text"
      },
      "source": [
        "<a href=\"https://colab.research.google.com/github/vlademirribeiro/Analise_gorjeta/blob/main/lendo_JSON.ipynb\" target=\"_parent\"><img src=\"https://colab.research.google.com/assets/colab-badge.svg\" alt=\"Open In Colab\"/></a>"
      ]
    },
    {
      "cell_type": "code",
      "execution_count": null,
      "metadata": {
        "id": "aH8nYnrIh3qF"
      },
      "outputs": [],
      "source": [
        "import pandas as pd"
      ]
    },
    {
      "cell_type": "code",
      "source": [
        "url = 'https://raw.githubusercontent.com/alura-cursos/Pandas/refs/heads/main/pacientes_2.json'"
      ],
      "metadata": {
        "id": "rZTUsxxXijKr"
      },
      "execution_count": null,
      "outputs": []
    },
    {
      "cell_type": "code",
      "source": [
        "pacientes = pd.read_json(url)"
      ],
      "metadata": {
        "id": "LmhKvEHeivFp"
      },
      "execution_count": null,
      "outputs": []
    },
    {
      "cell_type": "code",
      "source": [
        "pacientes.info()"
      ],
      "metadata": {
        "id": "uYEwN1rtix_g"
      },
      "execution_count": null,
      "outputs": []
    },
    {
      "cell_type": "code",
      "source": [
        "pacientes.head()"
      ],
      "metadata": {
        "id": "Fry2HeGpi1Uh"
      },
      "execution_count": null,
      "outputs": []
    },
    {
      "cell_type": "code",
      "source": [
        "pacientes"
      ],
      "metadata": {
        "id": "Eb7feNNhjJ5h"
      },
      "execution_count": null,
      "outputs": []
    },
    {
      "cell_type": "code",
      "source": [
        "pacientes.size"
      ],
      "metadata": {
        "id": "fMmnhhk-jozx"
      },
      "execution_count": null,
      "outputs": []
    },
    {
      "cell_type": "code",
      "source": [
        "#Extração dados aninhados\n",
        "normaliza = pd.json_normalize(pacientes['Pacientes'])"
      ],
      "metadata": {
        "id": "zeOXkfJcmgMT"
      },
      "execution_count": null,
      "outputs": []
    },
    {
      "cell_type": "code",
      "source": [
        "#escrever dados json\n"
      ],
      "metadata": {
        "id": "TFIhCsdroCCB"
      },
      "execution_count": null,
      "outputs": []
    },
    {
      "cell_type": "code",
      "source": [
        "normaliza.head()"
      ],
      "metadata": {
        "id": "0Mj9gRILmgcR"
      },
      "execution_count": null,
      "outputs": []
    },
    {
      "cell_type": "code",
      "source": [
        "url1 = 'https://raw.githubusercontent.com/alura-cursos/Pandas/refs/heads/main/pacientes.json'"
      ],
      "metadata": {
        "id": "eMxzUUvZj87Q"
      },
      "execution_count": null,
      "outputs": []
    },
    {
      "cell_type": "code",
      "source": [
        "pacientes = pd.read_json(url1)"
      ],
      "metadata": {
        "id": "J1V95f26kbKo"
      },
      "execution_count": null,
      "outputs": []
    },
    {
      "cell_type": "code",
      "source": [
        "pacientes.size"
      ],
      "metadata": {
        "id": "S-1W_8L2klxl"
      },
      "execution_count": null,
      "outputs": []
    },
    {
      "cell_type": "code",
      "source": [
        "pacientes.head()"
      ],
      "metadata": {
        "id": "6VrueXN4kltK"
      },
      "execution_count": null,
      "outputs": []
    },
    {
      "cell_type": "code",
      "source": [
        "#Salvando arquivo json\n",
        "normaliza.to_json('pacientes_normalizados.json')"
      ],
      "metadata": {
        "id": "bKFn0eVCkln7"
      },
      "execution_count": null,
      "outputs": []
    },
    {
      "cell_type": "code",
      "source": [
        "#lendo arquivo Json pos gravação\n",
        "pd.read_json('pacientes_normalizados.json')"
      ],
      "metadata": {
        "id": "47YGIr1wklkw"
      },
      "execution_count": null,
      "outputs": []
    },
    {
      "cell_type": "code",
      "source": [],
      "metadata": {
        "id": "OFpKKF8UklcA"
      },
      "execution_count": null,
      "outputs": []
    },
    {
      "cell_type": "code",
      "source": [],
      "metadata": {
        "id": "pR9iq4OoklWx"
      },
      "execution_count": null,
      "outputs": []
    }
  ]
}